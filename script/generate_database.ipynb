{
 "cells": [
  {
   "cell_type": "code",
   "execution_count": 2,
   "id": "amended-pastor",
   "metadata": {},
   "outputs": [
    {
     "output_type": "stream",
     "name": "stdout",
     "text": [
      "Database existed\n"
     ]
    }
   ],
   "source": [
    "import pymysql\n",
    "\n",
    "import pandas as pd\n",
    "\n",
    "db = pymysql.connect(host='localhost',port=int(3306),user='root',passwd='12345678', \n",
    "                    cursorclass=pymysql.cursors.DictCursor)\n",
    "\n",
    "try: \n",
    "    cursorInstance.execute(\"CREATE DATABASE data_warehouse\")\n",
    "    print('Database was successfully created')\n",
    "except: \n",
    "    print('Database existed')\n",
    "    \n",
    "db = pymysql.connect(host='localhost',port=int(3306),user='root',passwd='12345678', \n",
    "                    db='financialservice', cursorclass=pymysql.cursors.DictCursor)\n",
    "\n",
    "cursorInstance = db.cursor()\n",
    "cursorInstance.execute(\"SHOW DATABASES\")\n",
    "databaseList = cursorInstance.fetchall()"
   ]
  },
  {
   "cell_type": "code",
   "execution_count": 2,
   "id": "bound-husband",
   "metadata": {},
   "outputs": [],
   "source": [
    "def run(command, *args):\n",
    "    cursorInstance.execute(command, args)\n",
    "\n",
    "def get():\n",
    "    return cursorInstance.fetchall()\n",
    "# df = pd.read_sql(databaseList, con=db)"
   ]
  },
  {
   "cell_type": "code",
   "execution_count": 3,
   "id": "absent-jesus",
   "metadata": {},
   "outputs": [
    {
     "output_type": "stream",
     "name": "stdout",
     "text": [
      "True\n"
     ]
    }
   ],
   "source": [
    "borrower_csv = pd.read_csv('./borrower_table.csv')\n",
    "loan_csv = pd.read_csv('./loan_table.csv')\n",
    "\n",
    "import collections\n",
    "borrower_id_counter = collections.Counter(list(borrower_csv['loan_id']))\n",
    "loan_id_counter = collections.Counter(list(loan_csv['loan_id']))\n",
    "\n",
    "print(borrower_id_counter == loan_id_counter)"
   ]
  },
  {
   "cell_type": "code",
   "execution_count": 4,
   "id": "european-diving",
   "metadata": {},
   "outputs": [],
   "source": [
    "import datetime\n",
    "import random\n",
    "\n",
    "def random_date(year):\n",
    "    start_date = datetime.date(year, 1, 1)\n",
    "    end_date = datetime.date(year, 12, 31)\n",
    "\n",
    "    time_between_dates = end_date - start_date\n",
    "    days_between_dates = time_between_dates.days\n",
    "    random_number_of_days = random.randrange(days_between_dates)\n",
    "    \n",
    "    return start_date + datetime.timedelta(days=random_number_of_days)"
   ]
  },
  {
   "cell_type": "code",
   "execution_count": 5,
   "id": "colonial-former",
   "metadata": {},
   "outputs": [],
   "source": [
    "import numpy as np\n",
    "\n",
    "joined_csv = pd.merge(borrower_csv, loan_csv, how='inner', on=['loan_id'])\n",
    "joined_csv['customer_id'] = np.arange(len(joined_csv)) + 1\n",
    "joined_csv['date'] = pd.to_datetime(joined_csv['date'], format=\"%Y-%m-%d\")"
   ]
  },
  {
   "cell_type": "markdown",
   "id": "human-publisher",
   "metadata": {},
   "source": [
    "Random start date"
   ]
  },
  {
   "cell_type": "code",
   "execution_count": 17,
   "id": "future-procurement",
   "metadata": {},
   "outputs": [],
   "source": [
    "from tqdm import tqdm\n",
    "\n",
    "\n",
    "# p = [1.0] * 9\n",
    "# print(p)\n",
    "# sump = 0\n",
    "# sump = p[0]\n",
    "# for i in range (1, 8):\n",
    "#     p[i] = p[i - 1] * 1.05\n",
    "#     sump += p[i]\n",
    "# p[8] = p[7] * 1.02\n",
    "# sump += p[8]\n",
    "\n",
    "# sump2 = 0\n",
    "# for i in range(0, 8):\n",
    "#     p[i] /= sump\n",
    "#     sump2 += p[i]\n",
    "# p[8] = 1 - sump2\n",
    "\n",
    "# print([0.09, 0.1, 0.1, 0.11, 0.11, 0.12, 0.12, 0.13, 1 - 0.09 - 0.1 - 0.1 - 0.11 - 0.11 - 0.12 - 0.12 - 0.13])\n",
    "\n",
    "# print(\"joined_csv\")\n",
    "# print(type(joined_csv.keys()))\n",
    "# print(\"============\")\n",
    "\n",
    "# # for index, row in tqdm(joined_csv.iterrows()):\n",
    "# #     print(\"index = \", index, \" row = \", row)\n",
    "# #     joined_csv[index]['date'] = random_date(2012 + np.random.choice([0, 1, 2, 3, 4, 5, 6, 7, 8],  p=[0.135, 0.135, 0.135, 0.135, 0.135, 0.135, 0.135, 0.0275, 0.0275]))\n",
    "# joined_csv[0]['date'] = random_date(2012 + np.random.choice([0, 1, 2, 3, 4, 5, 6, 7, 8],  p=[0.135, 0.135, 0.135, 0.135, 0.135, 0.135, 0.135, 0.0275, 0.0275]))\n",
    "\n",
    "# # joined_csv['date'] = joined_csv['date'] + pd.offsets.DateOffset(year=np.random.choice([0, 1, 2, 3, 4, 5, 6, 7, 8],  p=[0.135, 0.135, 0.135, 0.135, 0.135, 0.135, 0.135, 0.0275, 0.0275]))"
   ]
  },
  {
   "cell_type": "code",
   "execution_count": 7,
   "id": "incident-nightlife",
   "metadata": {},
   "outputs": [],
   "source": [
    "# joined_csv['date'] = pd.to_datetime(joined_csv['date'], format=\"%Y-%m-%d\")"
   ]
  },
  {
   "cell_type": "code",
   "execution_count": 8,
   "id": "registered-memorabilia",
   "metadata": {},
   "outputs": [],
   "source": [
    "# joined_csv['year'] = joined_csv['date'].dt.year\n",
    "\n",
    "# joined_csv['month'] = joined_csv['date'].dt.month\n",
    "\n",
    "# joined_csv['day'] = joined_csv['date'].dt.day\n",
    "\n",
    "# joined_csv['quarter'] = joined_csv['date'].dt.quarter\n",
    "\n",
    "# joined_csv['date_of_birth'] = joined_csv['year'] - joined_csv['age']\n",
    "\n",
    "# joined_csv['date_of_birth'] = joined_csv['date_of_birth'].apply(random_date)\n",
    "\n",
    "# joined_csv['date_of_birth'] = pd.to_datetime(joined_csv['date_of_birth'], format=\"%Y-%m-%d\")"
   ]
  },
  {
   "cell_type": "markdown",
   "id": "prescription-slide",
   "metadata": {},
   "source": [
    "Random Branch"
   ]
  },
  {
   "cell_type": "code",
   "execution_count": 9,
   "id": "important-package",
   "metadata": {},
   "outputs": [
    {
     "output_type": "stream",
     "name": "stdout",
     "text": [
      "48\ni =  0\n"
     ]
    },
    {
     "output_type": "error",
     "ename": "IntegrityError",
     "evalue": "(1062, \"Duplicate entry '0' for key 'branch.PRIMARY'\")",
     "traceback": [
      "\u001b[1;31m---------------------------------------------------------------------------\u001b[0m",
      "\u001b[1;31mIntegrityError\u001b[0m                            Traceback (most recent call last)",
      "\u001b[1;32m<ipython-input-9-98d933c631ee>\u001b[0m in \u001b[0;36m<module>\u001b[1;34m\u001b[0m\n\u001b[0;32m     64\u001b[0m     \u001b[0maddress\u001b[0m \u001b[1;33m=\u001b[0m \u001b[0mbranch_addresses\u001b[0m\u001b[1;33m[\u001b[0m\u001b[0mi\u001b[0m\u001b[1;33m]\u001b[0m\u001b[1;33m\u001b[0m\u001b[1;33m\u001b[0m\u001b[0m\n\u001b[0;32m     65\u001b[0m     \u001b[0msql\u001b[0m \u001b[1;33m=\u001b[0m \u001b[1;34mf'INSERT INTO branch VALUES ({i}, \"{building_number}, {branch_addresses[i]}\")'\u001b[0m\u001b[1;33m\u001b[0m\u001b[1;33m\u001b[0m\u001b[0m\n\u001b[1;32m---> 66\u001b[1;33m     \u001b[0mrun\u001b[0m\u001b[1;33m(\u001b[0m\u001b[0msql\u001b[0m\u001b[1;33m)\u001b[0m\u001b[1;33m\u001b[0m\u001b[1;33m\u001b[0m\u001b[0m\n\u001b[0m\u001b[0;32m     67\u001b[0m \u001b[1;33m\u001b[0m\u001b[0m\n\u001b[0;32m     68\u001b[0m \u001b[0mdb\u001b[0m\u001b[1;33m.\u001b[0m\u001b[0mcommit\u001b[0m\u001b[1;33m(\u001b[0m\u001b[1;33m)\u001b[0m\u001b[1;33m\u001b[0m\u001b[1;33m\u001b[0m\u001b[0m\n",
      "\u001b[1;32m<ipython-input-2-ac9f85066518>\u001b[0m in \u001b[0;36mrun\u001b[1;34m(command, *args)\u001b[0m\n\u001b[0;32m      1\u001b[0m \u001b[1;32mdef\u001b[0m \u001b[0mrun\u001b[0m\u001b[1;33m(\u001b[0m\u001b[0mcommand\u001b[0m\u001b[1;33m,\u001b[0m \u001b[1;33m*\u001b[0m\u001b[0margs\u001b[0m\u001b[1;33m)\u001b[0m\u001b[1;33m:\u001b[0m\u001b[1;33m\u001b[0m\u001b[1;33m\u001b[0m\u001b[0m\n\u001b[1;32m----> 2\u001b[1;33m     \u001b[0mcursorInstance\u001b[0m\u001b[1;33m.\u001b[0m\u001b[0mexecute\u001b[0m\u001b[1;33m(\u001b[0m\u001b[0mcommand\u001b[0m\u001b[1;33m,\u001b[0m \u001b[0margs\u001b[0m\u001b[1;33m)\u001b[0m\u001b[1;33m\u001b[0m\u001b[1;33m\u001b[0m\u001b[0m\n\u001b[0m\u001b[0;32m      3\u001b[0m \u001b[1;33m\u001b[0m\u001b[0m\n\u001b[0;32m      4\u001b[0m \u001b[1;32mdef\u001b[0m \u001b[0mget\u001b[0m\u001b[1;33m(\u001b[0m\u001b[1;33m)\u001b[0m\u001b[1;33m:\u001b[0m\u001b[1;33m\u001b[0m\u001b[1;33m\u001b[0m\u001b[0m\n\u001b[0;32m      5\u001b[0m     \u001b[1;32mreturn\u001b[0m \u001b[0mcursorInstance\u001b[0m\u001b[1;33m.\u001b[0m\u001b[0mfetchall\u001b[0m\u001b[1;33m(\u001b[0m\u001b[1;33m)\u001b[0m\u001b[1;33m\u001b[0m\u001b[1;33m\u001b[0m\u001b[0m\n",
      "\u001b[1;32mC:\\ProgramData\\Anaconda3\\envs\\ml\\lib\\site-packages\\pymysql\\cursors.py\u001b[0m in \u001b[0;36mexecute\u001b[1;34m(self, query, args)\u001b[0m\n\u001b[0;32m    146\u001b[0m         \u001b[0mquery\u001b[0m \u001b[1;33m=\u001b[0m \u001b[0mself\u001b[0m\u001b[1;33m.\u001b[0m\u001b[0mmogrify\u001b[0m\u001b[1;33m(\u001b[0m\u001b[0mquery\u001b[0m\u001b[1;33m,\u001b[0m \u001b[0margs\u001b[0m\u001b[1;33m)\u001b[0m\u001b[1;33m\u001b[0m\u001b[1;33m\u001b[0m\u001b[0m\n\u001b[0;32m    147\u001b[0m \u001b[1;33m\u001b[0m\u001b[0m\n\u001b[1;32m--> 148\u001b[1;33m         \u001b[0mresult\u001b[0m \u001b[1;33m=\u001b[0m \u001b[0mself\u001b[0m\u001b[1;33m.\u001b[0m\u001b[0m_query\u001b[0m\u001b[1;33m(\u001b[0m\u001b[0mquery\u001b[0m\u001b[1;33m)\u001b[0m\u001b[1;33m\u001b[0m\u001b[1;33m\u001b[0m\u001b[0m\n\u001b[0m\u001b[0;32m    149\u001b[0m         \u001b[0mself\u001b[0m\u001b[1;33m.\u001b[0m\u001b[0m_executed\u001b[0m \u001b[1;33m=\u001b[0m \u001b[0mquery\u001b[0m\u001b[1;33m\u001b[0m\u001b[1;33m\u001b[0m\u001b[0m\n\u001b[0;32m    150\u001b[0m         \u001b[1;32mreturn\u001b[0m \u001b[0mresult\u001b[0m\u001b[1;33m\u001b[0m\u001b[1;33m\u001b[0m\u001b[0m\n",
      "\u001b[1;32mC:\\ProgramData\\Anaconda3\\envs\\ml\\lib\\site-packages\\pymysql\\cursors.py\u001b[0m in \u001b[0;36m_query\u001b[1;34m(self, q)\u001b[0m\n\u001b[0;32m    308\u001b[0m         \u001b[0mself\u001b[0m\u001b[1;33m.\u001b[0m\u001b[0m_last_executed\u001b[0m \u001b[1;33m=\u001b[0m \u001b[0mq\u001b[0m\u001b[1;33m\u001b[0m\u001b[1;33m\u001b[0m\u001b[0m\n\u001b[0;32m    309\u001b[0m         \u001b[0mself\u001b[0m\u001b[1;33m.\u001b[0m\u001b[0m_clear_result\u001b[0m\u001b[1;33m(\u001b[0m\u001b[1;33m)\u001b[0m\u001b[1;33m\u001b[0m\u001b[1;33m\u001b[0m\u001b[0m\n\u001b[1;32m--> 310\u001b[1;33m         \u001b[0mconn\u001b[0m\u001b[1;33m.\u001b[0m\u001b[0mquery\u001b[0m\u001b[1;33m(\u001b[0m\u001b[0mq\u001b[0m\u001b[1;33m)\u001b[0m\u001b[1;33m\u001b[0m\u001b[1;33m\u001b[0m\u001b[0m\n\u001b[0m\u001b[0;32m    311\u001b[0m         \u001b[0mself\u001b[0m\u001b[1;33m.\u001b[0m\u001b[0m_do_get_result\u001b[0m\u001b[1;33m(\u001b[0m\u001b[1;33m)\u001b[0m\u001b[1;33m\u001b[0m\u001b[1;33m\u001b[0m\u001b[0m\n\u001b[0;32m    312\u001b[0m         \u001b[1;32mreturn\u001b[0m \u001b[0mself\u001b[0m\u001b[1;33m.\u001b[0m\u001b[0mrowcount\u001b[0m\u001b[1;33m\u001b[0m\u001b[1;33m\u001b[0m\u001b[0m\n",
      "\u001b[1;32mC:\\ProgramData\\Anaconda3\\envs\\ml\\lib\\site-packages\\pymysql\\connections.py\u001b[0m in \u001b[0;36mquery\u001b[1;34m(self, sql, unbuffered)\u001b[0m\n\u001b[0;32m    546\u001b[0m             \u001b[0msql\u001b[0m \u001b[1;33m=\u001b[0m \u001b[0msql\u001b[0m\u001b[1;33m.\u001b[0m\u001b[0mencode\u001b[0m\u001b[1;33m(\u001b[0m\u001b[0mself\u001b[0m\u001b[1;33m.\u001b[0m\u001b[0mencoding\u001b[0m\u001b[1;33m,\u001b[0m \u001b[1;34m\"surrogateescape\"\u001b[0m\u001b[1;33m)\u001b[0m\u001b[1;33m\u001b[0m\u001b[1;33m\u001b[0m\u001b[0m\n\u001b[0;32m    547\u001b[0m         \u001b[0mself\u001b[0m\u001b[1;33m.\u001b[0m\u001b[0m_execute_command\u001b[0m\u001b[1;33m(\u001b[0m\u001b[0mCOMMAND\u001b[0m\u001b[1;33m.\u001b[0m\u001b[0mCOM_QUERY\u001b[0m\u001b[1;33m,\u001b[0m \u001b[0msql\u001b[0m\u001b[1;33m)\u001b[0m\u001b[1;33m\u001b[0m\u001b[1;33m\u001b[0m\u001b[0m\n\u001b[1;32m--> 548\u001b[1;33m         \u001b[0mself\u001b[0m\u001b[1;33m.\u001b[0m\u001b[0m_affected_rows\u001b[0m \u001b[1;33m=\u001b[0m \u001b[0mself\u001b[0m\u001b[1;33m.\u001b[0m\u001b[0m_read_query_result\u001b[0m\u001b[1;33m(\u001b[0m\u001b[0munbuffered\u001b[0m\u001b[1;33m=\u001b[0m\u001b[0munbuffered\u001b[0m\u001b[1;33m)\u001b[0m\u001b[1;33m\u001b[0m\u001b[1;33m\u001b[0m\u001b[0m\n\u001b[0m\u001b[0;32m    549\u001b[0m         \u001b[1;32mreturn\u001b[0m \u001b[0mself\u001b[0m\u001b[1;33m.\u001b[0m\u001b[0m_affected_rows\u001b[0m\u001b[1;33m\u001b[0m\u001b[1;33m\u001b[0m\u001b[0m\n\u001b[0;32m    550\u001b[0m \u001b[1;33m\u001b[0m\u001b[0m\n",
      "\u001b[1;32mC:\\ProgramData\\Anaconda3\\envs\\ml\\lib\\site-packages\\pymysql\\connections.py\u001b[0m in \u001b[0;36m_read_query_result\u001b[1;34m(self, unbuffered)\u001b[0m\n\u001b[0;32m    773\u001b[0m         \u001b[1;32melse\u001b[0m\u001b[1;33m:\u001b[0m\u001b[1;33m\u001b[0m\u001b[1;33m\u001b[0m\u001b[0m\n\u001b[0;32m    774\u001b[0m             \u001b[0mresult\u001b[0m \u001b[1;33m=\u001b[0m \u001b[0mMySQLResult\u001b[0m\u001b[1;33m(\u001b[0m\u001b[0mself\u001b[0m\u001b[1;33m)\u001b[0m\u001b[1;33m\u001b[0m\u001b[1;33m\u001b[0m\u001b[0m\n\u001b[1;32m--> 775\u001b[1;33m             \u001b[0mresult\u001b[0m\u001b[1;33m.\u001b[0m\u001b[0mread\u001b[0m\u001b[1;33m(\u001b[0m\u001b[1;33m)\u001b[0m\u001b[1;33m\u001b[0m\u001b[1;33m\u001b[0m\u001b[0m\n\u001b[0m\u001b[0;32m    776\u001b[0m         \u001b[0mself\u001b[0m\u001b[1;33m.\u001b[0m\u001b[0m_result\u001b[0m \u001b[1;33m=\u001b[0m \u001b[0mresult\u001b[0m\u001b[1;33m\u001b[0m\u001b[1;33m\u001b[0m\u001b[0m\n\u001b[0;32m    777\u001b[0m         \u001b[1;32mif\u001b[0m \u001b[0mresult\u001b[0m\u001b[1;33m.\u001b[0m\u001b[0mserver_status\u001b[0m \u001b[1;32mis\u001b[0m \u001b[1;32mnot\u001b[0m \u001b[1;32mNone\u001b[0m\u001b[1;33m:\u001b[0m\u001b[1;33m\u001b[0m\u001b[1;33m\u001b[0m\u001b[0m\n",
      "\u001b[1;32mC:\\ProgramData\\Anaconda3\\envs\\ml\\lib\\site-packages\\pymysql\\connections.py\u001b[0m in \u001b[0;36mread\u001b[1;34m(self)\u001b[0m\n\u001b[0;32m   1154\u001b[0m     \u001b[1;32mdef\u001b[0m \u001b[0mread\u001b[0m\u001b[1;33m(\u001b[0m\u001b[0mself\u001b[0m\u001b[1;33m)\u001b[0m\u001b[1;33m:\u001b[0m\u001b[1;33m\u001b[0m\u001b[1;33m\u001b[0m\u001b[0m\n\u001b[0;32m   1155\u001b[0m         \u001b[1;32mtry\u001b[0m\u001b[1;33m:\u001b[0m\u001b[1;33m\u001b[0m\u001b[1;33m\u001b[0m\u001b[0m\n\u001b[1;32m-> 1156\u001b[1;33m             \u001b[0mfirst_packet\u001b[0m \u001b[1;33m=\u001b[0m \u001b[0mself\u001b[0m\u001b[1;33m.\u001b[0m\u001b[0mconnection\u001b[0m\u001b[1;33m.\u001b[0m\u001b[0m_read_packet\u001b[0m\u001b[1;33m(\u001b[0m\u001b[1;33m)\u001b[0m\u001b[1;33m\u001b[0m\u001b[1;33m\u001b[0m\u001b[0m\n\u001b[0m\u001b[0;32m   1157\u001b[0m \u001b[1;33m\u001b[0m\u001b[0m\n\u001b[0;32m   1158\u001b[0m             \u001b[1;32mif\u001b[0m \u001b[0mfirst_packet\u001b[0m\u001b[1;33m.\u001b[0m\u001b[0mis_ok_packet\u001b[0m\u001b[1;33m(\u001b[0m\u001b[1;33m)\u001b[0m\u001b[1;33m:\u001b[0m\u001b[1;33m\u001b[0m\u001b[1;33m\u001b[0m\u001b[0m\n",
      "\u001b[1;32mC:\\ProgramData\\Anaconda3\\envs\\ml\\lib\\site-packages\\pymysql\\connections.py\u001b[0m in \u001b[0;36m_read_packet\u001b[1;34m(self, packet_type)\u001b[0m\n\u001b[0;32m    723\u001b[0m             \u001b[1;32mif\u001b[0m \u001b[0mself\u001b[0m\u001b[1;33m.\u001b[0m\u001b[0m_result\u001b[0m \u001b[1;32mis\u001b[0m \u001b[1;32mnot\u001b[0m \u001b[1;32mNone\u001b[0m \u001b[1;32mand\u001b[0m \u001b[0mself\u001b[0m\u001b[1;33m.\u001b[0m\u001b[0m_result\u001b[0m\u001b[1;33m.\u001b[0m\u001b[0munbuffered_active\u001b[0m \u001b[1;32mis\u001b[0m \u001b[1;32mTrue\u001b[0m\u001b[1;33m:\u001b[0m\u001b[1;33m\u001b[0m\u001b[1;33m\u001b[0m\u001b[0m\n\u001b[0;32m    724\u001b[0m                 \u001b[0mself\u001b[0m\u001b[1;33m.\u001b[0m\u001b[0m_result\u001b[0m\u001b[1;33m.\u001b[0m\u001b[0munbuffered_active\u001b[0m \u001b[1;33m=\u001b[0m \u001b[1;32mFalse\u001b[0m\u001b[1;33m\u001b[0m\u001b[1;33m\u001b[0m\u001b[0m\n\u001b[1;32m--> 725\u001b[1;33m             \u001b[0mpacket\u001b[0m\u001b[1;33m.\u001b[0m\u001b[0mraise_for_error\u001b[0m\u001b[1;33m(\u001b[0m\u001b[1;33m)\u001b[0m\u001b[1;33m\u001b[0m\u001b[1;33m\u001b[0m\u001b[0m\n\u001b[0m\u001b[0;32m    726\u001b[0m         \u001b[1;32mreturn\u001b[0m \u001b[0mpacket\u001b[0m\u001b[1;33m\u001b[0m\u001b[1;33m\u001b[0m\u001b[0m\n\u001b[0;32m    727\u001b[0m \u001b[1;33m\u001b[0m\u001b[0m\n",
      "\u001b[1;32mC:\\ProgramData\\Anaconda3\\envs\\ml\\lib\\site-packages\\pymysql\\protocol.py\u001b[0m in \u001b[0;36mraise_for_error\u001b[1;34m(self)\u001b[0m\n\u001b[0;32m    219\u001b[0m         \u001b[1;32mif\u001b[0m \u001b[0mDEBUG\u001b[0m\u001b[1;33m:\u001b[0m\u001b[1;33m\u001b[0m\u001b[1;33m\u001b[0m\u001b[0m\n\u001b[0;32m    220\u001b[0m             \u001b[0mprint\u001b[0m\u001b[1;33m(\u001b[0m\u001b[1;34m\"errno =\"\u001b[0m\u001b[1;33m,\u001b[0m \u001b[0merrno\u001b[0m\u001b[1;33m)\u001b[0m\u001b[1;33m\u001b[0m\u001b[1;33m\u001b[0m\u001b[0m\n\u001b[1;32m--> 221\u001b[1;33m         \u001b[0merr\u001b[0m\u001b[1;33m.\u001b[0m\u001b[0mraise_mysql_exception\u001b[0m\u001b[1;33m(\u001b[0m\u001b[0mself\u001b[0m\u001b[1;33m.\u001b[0m\u001b[0m_data\u001b[0m\u001b[1;33m)\u001b[0m\u001b[1;33m\u001b[0m\u001b[1;33m\u001b[0m\u001b[0m\n\u001b[0m\u001b[0;32m    222\u001b[0m \u001b[1;33m\u001b[0m\u001b[0m\n\u001b[0;32m    223\u001b[0m     \u001b[1;32mdef\u001b[0m \u001b[0mdump\u001b[0m\u001b[1;33m(\u001b[0m\u001b[0mself\u001b[0m\u001b[1;33m)\u001b[0m\u001b[1;33m:\u001b[0m\u001b[1;33m\u001b[0m\u001b[1;33m\u001b[0m\u001b[0m\n",
      "\u001b[1;32mC:\\ProgramData\\Anaconda3\\envs\\ml\\lib\\site-packages\\pymysql\\err.py\u001b[0m in \u001b[0;36mraise_mysql_exception\u001b[1;34m(data)\u001b[0m\n\u001b[0;32m    141\u001b[0m     \u001b[1;32mif\u001b[0m \u001b[0merrorclass\u001b[0m \u001b[1;32mis\u001b[0m \u001b[1;32mNone\u001b[0m\u001b[1;33m:\u001b[0m\u001b[1;33m\u001b[0m\u001b[1;33m\u001b[0m\u001b[0m\n\u001b[0;32m    142\u001b[0m         \u001b[0merrorclass\u001b[0m \u001b[1;33m=\u001b[0m \u001b[0mInternalError\u001b[0m \u001b[1;32mif\u001b[0m \u001b[0merrno\u001b[0m \u001b[1;33m<\u001b[0m \u001b[1;36m1000\u001b[0m \u001b[1;32melse\u001b[0m \u001b[0mOperationalError\u001b[0m\u001b[1;33m\u001b[0m\u001b[1;33m\u001b[0m\u001b[0m\n\u001b[1;32m--> 143\u001b[1;33m     \u001b[1;32mraise\u001b[0m \u001b[0merrorclass\u001b[0m\u001b[1;33m(\u001b[0m\u001b[0merrno\u001b[0m\u001b[1;33m,\u001b[0m \u001b[0merrval\u001b[0m\u001b[1;33m)\u001b[0m\u001b[1;33m\u001b[0m\u001b[1;33m\u001b[0m\u001b[0m\n\u001b[0m",
      "\u001b[1;31mIntegrityError\u001b[0m: (1062, \"Duplicate entry '0' for key 'branch.PRIMARY'\")"
     ]
    }
   ],
   "source": [
    "from faker import Faker\n",
    "\n",
    "fake = Faker('en_US')\n",
    "\n",
    "BRANCH_COUNT = 20\n",
    "\n",
    "\n",
    "branch_addresses = [\"Đường Kim Ngọc, Thành phố Vĩnh Yên, Tỉnh Vĩnh Phúc\", \n",
    "                    \"Hai Bà Trưng, Phường Hàng Trống, Quận Hoàn Kiếm, Thành phố Hà Nội\",\n",
    "                    \"Thợ Nhuộm, Quận Hoàn Kiếm, Thành phố Hà Nội\", \n",
    "                    \"Lê Thánh Tông, Quận Hoàn Kiếm, Thành phố Hà Nội\",\n",
    "                    \"Trần Quang Khải, Quận Hoàn Kiếm, Thành phố Hà Nội\",\n",
    "                    \"Hàng Tre, Quận Hoàn Kiếm, Thành phố Hà Nội\",\n",
    "                    \"Huỳnh Thúc Kháng ,Quận Đống Đa, Thành phố Hà Nội\",\n",
    "                    \"Trần Duy Hưng, Quận Cầu Giấy, Thành phố Hà Nội\"\n",
    "                    \"Phạm Hùng, Nam Từ Liêm, Thành phố Hà Nội\", \n",
    "                    \"Phan Đình Phùng, Quận Ba Đình, Thành phố Hà Nội\", \n",
    "                    \"Võ Văn Kiệt, Quận 1, Thành phố Hồ Chí Minh\", \n",
    "                    \"Hàm Nghi, Quận 1, Thành phố Hồ Chí Minh\", \n",
    "                    \"Lê Thánh Tôn, Quận 1, Thành phố Hồ Chí Minh\", \n",
    "                    \"Bùi Thị Xuân, Quận 1, Thành phố Hồ Chí Minh\", \n",
    "                    \"Phó Đức Chính, Quận 1, Thành phố Hồ Chí Minh\", \n",
    "                    \"Nguyễn Công Trứ, Quận 1, Thành phố Hồ Chí Minh\",\n",
    "                    \"Võ Văn Tần, Quận 3, Thành phố Hồ Chí Minh\", \n",
    "                    \"Nam Kỳ Khởi Nghĩa, Quận 3, Thành phố Hồ Chí Minh\", \n",
    "                    \"Nguyễn Thị Diệu, Quận 3, Thành phố Hồ Chí Minh\",\n",
    "                    \"Đường Hoà Bình, Quận Ninh Kiều, Thành phố Cần Thơ\", \n",
    "                    \"Phan Đình Phùng, Quận Ninh Kiều, Thành phố Cần Thơ\",\n",
    "                    \"Võ Văn Tần, Quận Ninh Kiều, Thành phố Cần Thơ\", \n",
    "                    \"Đường Hùng Vương,Thành phố Móng Cái, Tỉnh Quảng Ninh\", \n",
    "                    \"Trần Hưng Đạo, Thành phố Hạ Long, Tỉnh Quảng Ninh\",\n",
    "                    \"Đường Hùng Vương, Thành phố Móng Cái, Tỉnh Quảng Ninh\", \n",
    "                    \"Đại lộ Bình Dương, Thành phố Thủ Dầu Một, Tỉnh Bình Dương\",\n",
    "                    \"Đường ĐT743, Thị xã Dĩ An, Tỉnh Bình Dương\",\n",
    "                    \"Trường Chinh, Thị xã Bà Rịa, Tỉnh Bà Rịa - Vũng Tàu\", \n",
    "                    \"Quốc lộ 51, Huyện Tân Thành, Tỉnh Bà Rịa - Vũng Tàu\",\n",
    "                    \"Thống Nhất, Thành phố Vũng Tàu, Tỉnh Bà Rịa - Vũng Tàu\",\n",
    "                    \"Trần Hưng Đạo, Thành phố Vũng Tàu, Tỉnh Bà Rịa - Vũng Tàu\",\n",
    "                    \"Đường Nguyễn Trung Trực, Phú Quốc, Kiên Giang\"\n",
    "                    \"Đường Trần Phú, Rạch Giá, Kiên Giang\",\n",
    "                    \"Hùng Vương, Thành phố Quảng Ngãi, Tỉnh Quảng Ngãi\",\n",
    "                    \"Trung An, Xã Bình Thạnh, Huyện Bình Sơn, Tỉnh Quảng Ngãi\",\n",
    "                    \"Đường Lê Lợi, Thành phố Plei Ku, Tỉnh Gia Lai\",\n",
    "                    \"Nguyễn Tất Thành, Thành phố Plei Ku, Tỉnh Gia Lai\",\n",
    "                    \"Trần Phú, Thành phố Plei Ku, Tỉnh Gia Lai\",\n",
    "                    \"Lê Lợi, Vĩnh Long, Vĩnh Long\",\n",
    "                    \"KCN Phú Tài, Thành phố Quy Nhơn, Tỉnh Bình Định\",\n",
    "                    \"Lê Duẩn,Thành phố Quy Nhơn, Tỉnh Bình Định\", \n",
    "                    \"Lê Hồng Phong, Thành phố Quy Nhơn, Tỉnh Bình Định\", \n",
    "                    \"Lê Thị Pha, Thành phố Bảo Lộc, Tỉnh Lâm Đồng\",\n",
    "                    \"Đường 30/4, Thành phố Tây Ninh, Tỉnh Tây Ninh\",\n",
    "                    \"Đường Trần Phú, Thành phố Kon Tum, Tỉnh Kon Tum\",\n",
    "                    \"Nguyễn Công Trứ, Thành phố Vị Thanh, Hậu Giang\", \n",
    "                    \"Đại Lộ Đồng Khởi, Thành phố Bến Tre, Bến Tre\", \n",
    "                    \"Qưới Sơn, Châu Thành, Bến Tre\", \n",
    "                    \"Duy Tân, Thành phố Tuy Hoà, Tỉnh Phú Yên\", \n",
    "                    \"Đường Lê Thánh Tôn, Thành phố Trà Vinh, Tỉnh Trà Vinh\"]\n",
    "\n",
    "print(len(branch_addresses))\n",
    "num_branch = len(branch_addresses)\n",
    "for i in range(len(branch_addresses)):\n",
    "    print(\"i = \", i)\n",
    "    building_number = fake.building_number()\n",
    "    address = branch_addresses[i]\n",
    "    sql = f'INSERT INTO branch VALUES ({i}, \"{building_number}, {branch_addresses[i]}\")'\n",
    "    run(sql)\n",
    "    \n",
    "db.commit()"
   ]
  },
  {
   "cell_type": "markdown",
   "id": "thrown-compromise",
   "metadata": {},
   "source": [
    "Random customers"
   ]
  },
  {
   "cell_type": "code",
   "execution_count": 1,
   "id": "familiar-fleece",
   "metadata": {},
   "outputs": [
    {
     "output_type": "error",
     "ename": "NameError",
     "evalue": "name 'joined_csv' is not defined",
     "traceback": [
      "\u001b[1;31m---------------------------------------------------------------------------\u001b[0m",
      "\u001b[1;31mNameError\u001b[0m                                 Traceback (most recent call last)",
      "\u001b[1;32m<ipython-input-1-0caba7740f98>\u001b[0m in \u001b[0;36m<module>\u001b[1;34m\u001b[0m\n\u001b[0;32m      1\u001b[0m \u001b[0mfamily_names\u001b[0m \u001b[1;33m=\u001b[0m \u001b[1;33m[\u001b[0m\u001b[1;34m\"Nguyễn\"\u001b[0m\u001b[1;33m,\u001b[0m \u001b[1;34m\"Trần\"\u001b[0m\u001b[1;33m,\u001b[0m \u001b[1;34m\"Phạm\"\u001b[0m\u001b[1;33m,\u001b[0m \u001b[1;34m\"Đặng\"\u001b[0m\u001b[1;33m,\u001b[0m \u001b[1;34m\"Hoàng\"\u001b[0m\u001b[1;33m,\u001b[0m \u001b[1;34m\"Hồ\"\u001b[0m\u001b[1;33m,\u001b[0m \u001b[1;34m\"Vũ\"\u001b[0m\u001b[1;33m,\u001b[0m \u001b[1;34m\"Cao\"\u001b[0m\u001b[1;33m,\u001b[0m \u001b[1;34m\"Trịnh\"\u001b[0m\u001b[1;33m]\u001b[0m\u001b[1;33m\u001b[0m\u001b[1;33m\u001b[0m\u001b[0m\n\u001b[0;32m      2\u001b[0m \u001b[0mnames\u001b[0m \u001b[1;33m=\u001b[0m \u001b[1;33m[\u001b[0m\u001b[1;34m\"Sơn\"\u001b[0m\u001b[1;33m,\u001b[0m \u001b[1;34m\"Mạnh\"\u001b[0m\u001b[1;33m,\u001b[0m \u001b[1;34m\"Huy\"\u001b[0m\u001b[1;33m,\u001b[0m \u001b[1;34m\"Nam\"\u001b[0m\u001b[1;33m,\u001b[0m \u001b[1;34m\"Trang\"\u001b[0m\u001b[1;33m,\u001b[0m \u001b[1;34m\"Hải\"\u001b[0m\u001b[1;33m,\u001b[0m \u001b[1;34m\"Yến\"\u001b[0m\u001b[1;33m,\u001b[0m \u001b[1;34m\"Thúy\"\u001b[0m\u001b[1;33m,\u001b[0m \u001b[1;34m\"Châu\"\u001b[0m\u001b[1;33m,\u001b[0m \u001b[1;34m\"Phi\"\u001b[0m\u001b[1;33m,\u001b[0m \u001b[1;34m\"Huy\"\u001b[0m\u001b[1;33m,\u001b[0m \u001b[1;34m\"Tú\"\u001b[0m\u001b[1;33m]\u001b[0m\u001b[1;33m\u001b[0m\u001b[1;33m\u001b[0m\u001b[0m\n\u001b[1;32m----> 3\u001b[1;33m \u001b[0mprint\u001b[0m\u001b[1;33m(\u001b[0m\u001b[0mlen\u001b[0m\u001b[1;33m(\u001b[0m\u001b[0mjoined_csv\u001b[0m\u001b[1;33m)\u001b[0m\u001b[1;33m)\u001b[0m\u001b[1;33m\u001b[0m\u001b[1;33m\u001b[0m\u001b[0m\n\u001b[0m\u001b[0;32m      4\u001b[0m \u001b[0mcustomer_table\u001b[0m \u001b[1;33m=\u001b[0m \u001b[0mlist\u001b[0m\u001b[1;33m(\u001b[0m\u001b[1;33m)\u001b[0m\u001b[1;33m\u001b[0m\u001b[1;33m\u001b[0m\u001b[0m\n\u001b[0;32m      5\u001b[0m \u001b[1;32mfor\u001b[0m \u001b[0mindex\u001b[0m\u001b[1;33m,\u001b[0m \u001b[0mrow\u001b[0m \u001b[1;32min\u001b[0m \u001b[0mjoined_csv\u001b[0m\u001b[1;33m.\u001b[0m\u001b[0miterrows\u001b[0m\u001b[1;33m(\u001b[0m\u001b[1;33m)\u001b[0m\u001b[1;33m:\u001b[0m\u001b[1;33m\u001b[0m\u001b[1;33m\u001b[0m\u001b[0m\n",
      "\u001b[1;31mNameError\u001b[0m: name 'joined_csv' is not defined"
     ]
    }
   ],
   "source": [
    "\n",
    "family_names = [\"Nguyễn\", \"Trần\", \"Phạm\", \"Đặng\", \"Hoàng\", \"Hồ\", \"Vũ\", \"Cao\", \"Trịnh\"]\n",
    "names = [\"Sơn\", \"Mạnh\", \"Huy\", \"Nam\", \"Trang\", \"Hải\", \"Yến\", \"Thúy\", \"Châu\", \"Phi\", \"Huy\", \"Tú\"]\n",
    "print(len(joined_csv))\n",
    "customer_table = list()\n",
    "for index, row in joined_csv.iterrows():\n",
    "    customer_id = row['customer_id']\n",
    "    customer_name = np.random.choice(family_names) + \" \" + np.random.choice(names)\n",
    "    yearly_salary = row['yearly_salary']\n",
    "    date_of_birth = row['date_of_birth']\n",
    "    address = str(fake.building_number()) + random.choice(branch_addresses)\n",
    "    \n",
    "    is_employed = row['is_employed']\n",
    "    marital_status = np.random.choice([0, 1, 2, 3], p=[0.69, 0.22, 0.01, 0.08])\n",
    "    \n",
    "    sql = 'INSERT INTO customer VALUES (%s, %s, %s, %s, %s, %s, %s)'\n",
    "    customer_table.append((customer_id, customer_name, is_employed, date_of_birth, address, marital_status, yearly_salary))\n",
    "    run(sql, customer_id, customer_name, is_employed, date_of_birth, address, marital_status, yearly_salary)\n",
    "    \n",
    "db.commit()"
   ]
  },
  {
   "cell_type": "markdown",
   "id": "perfect-running",
   "metadata": {},
   "source": [
    "Random loan category"
   ]
  },
  {
   "cell_type": "code",
   "execution_count": 12,
   "id": "portuguese-progressive",
   "metadata": {},
   "outputs": [
    {
     "output_type": "error",
     "ename": "IntegrityError",
     "evalue": "(1062, \"Duplicate entry '0' for key 'loan_category.PRIMARY'\")",
     "traceback": [
      "\u001b[1;31m---------------------------------------------------------------------------\u001b[0m",
      "\u001b[1;31mIntegrityError\u001b[0m                            Traceback (most recent call last)",
      "\u001b[1;32m<ipython-input-12-fc6b2febd7cd>\u001b[0m in \u001b[0;36m<module>\u001b[1;34m\u001b[0m\n\u001b[0;32m     13\u001b[0m \u001b[1;33m\u001b[0m\u001b[0m\n\u001b[0;32m     14\u001b[0m             \u001b[0msql\u001b[0m \u001b[1;33m=\u001b[0m \u001b[1;34m'INSERT INTO loan_category VALUES (%s, %s, %s, %s, %s)'\u001b[0m\u001b[1;33m\u001b[0m\u001b[1;33m\u001b[0m\u001b[0m\n\u001b[1;32m---> 15\u001b[1;33m             \u001b[0mrun\u001b[0m\u001b[1;33m(\u001b[0m\u001b[0msql\u001b[0m\u001b[1;33m,\u001b[0m \u001b[0mcategory_id\u001b[0m\u001b[1;33m,\u001b[0m \u001b[0mnew_lifespan\u001b[0m\u001b[1;33m,\u001b[0m \u001b[0mrate\u001b[0m\u001b[1;33m,\u001b[0m \u001b[0mpurpose\u001b[0m\u001b[1;33m,\u001b[0m \u001b[0mis_secured\u001b[0m\u001b[1;33m)\u001b[0m\u001b[1;33m\u001b[0m\u001b[1;33m\u001b[0m\u001b[0m\n\u001b[0m\u001b[0;32m     16\u001b[0m             \u001b[0mcategory_id\u001b[0m \u001b[1;33m+=\u001b[0m \u001b[1;36m1\u001b[0m\u001b[1;33m\u001b[0m\u001b[1;33m\u001b[0m\u001b[0m\n\u001b[0;32m     17\u001b[0m \u001b[1;33m\u001b[0m\u001b[0m\n",
      "\u001b[1;32m<ipython-input-2-ac9f85066518>\u001b[0m in \u001b[0;36mrun\u001b[1;34m(command, *args)\u001b[0m\n\u001b[0;32m      1\u001b[0m \u001b[1;32mdef\u001b[0m \u001b[0mrun\u001b[0m\u001b[1;33m(\u001b[0m\u001b[0mcommand\u001b[0m\u001b[1;33m,\u001b[0m \u001b[1;33m*\u001b[0m\u001b[0margs\u001b[0m\u001b[1;33m)\u001b[0m\u001b[1;33m:\u001b[0m\u001b[1;33m\u001b[0m\u001b[1;33m\u001b[0m\u001b[0m\n\u001b[1;32m----> 2\u001b[1;33m     \u001b[0mcursorInstance\u001b[0m\u001b[1;33m.\u001b[0m\u001b[0mexecute\u001b[0m\u001b[1;33m(\u001b[0m\u001b[0mcommand\u001b[0m\u001b[1;33m,\u001b[0m \u001b[0margs\u001b[0m\u001b[1;33m)\u001b[0m\u001b[1;33m\u001b[0m\u001b[1;33m\u001b[0m\u001b[0m\n\u001b[0m\u001b[0;32m      3\u001b[0m \u001b[1;33m\u001b[0m\u001b[0m\n\u001b[0;32m      4\u001b[0m \u001b[1;32mdef\u001b[0m \u001b[0mget\u001b[0m\u001b[1;33m(\u001b[0m\u001b[1;33m)\u001b[0m\u001b[1;33m:\u001b[0m\u001b[1;33m\u001b[0m\u001b[1;33m\u001b[0m\u001b[0m\n\u001b[0;32m      5\u001b[0m     \u001b[1;32mreturn\u001b[0m \u001b[0mcursorInstance\u001b[0m\u001b[1;33m.\u001b[0m\u001b[0mfetchall\u001b[0m\u001b[1;33m(\u001b[0m\u001b[1;33m)\u001b[0m\u001b[1;33m\u001b[0m\u001b[1;33m\u001b[0m\u001b[0m\n",
      "\u001b[1;32mC:\\ProgramData\\Anaconda3\\envs\\ml\\lib\\site-packages\\pymysql\\cursors.py\u001b[0m in \u001b[0;36mexecute\u001b[1;34m(self, query, args)\u001b[0m\n\u001b[0;32m    146\u001b[0m         \u001b[0mquery\u001b[0m \u001b[1;33m=\u001b[0m \u001b[0mself\u001b[0m\u001b[1;33m.\u001b[0m\u001b[0mmogrify\u001b[0m\u001b[1;33m(\u001b[0m\u001b[0mquery\u001b[0m\u001b[1;33m,\u001b[0m \u001b[0margs\u001b[0m\u001b[1;33m)\u001b[0m\u001b[1;33m\u001b[0m\u001b[1;33m\u001b[0m\u001b[0m\n\u001b[0;32m    147\u001b[0m \u001b[1;33m\u001b[0m\u001b[0m\n\u001b[1;32m--> 148\u001b[1;33m         \u001b[0mresult\u001b[0m \u001b[1;33m=\u001b[0m \u001b[0mself\u001b[0m\u001b[1;33m.\u001b[0m\u001b[0m_query\u001b[0m\u001b[1;33m(\u001b[0m\u001b[0mquery\u001b[0m\u001b[1;33m)\u001b[0m\u001b[1;33m\u001b[0m\u001b[1;33m\u001b[0m\u001b[0m\n\u001b[0m\u001b[0;32m    149\u001b[0m         \u001b[0mself\u001b[0m\u001b[1;33m.\u001b[0m\u001b[0m_executed\u001b[0m \u001b[1;33m=\u001b[0m \u001b[0mquery\u001b[0m\u001b[1;33m\u001b[0m\u001b[1;33m\u001b[0m\u001b[0m\n\u001b[0;32m    150\u001b[0m         \u001b[1;32mreturn\u001b[0m \u001b[0mresult\u001b[0m\u001b[1;33m\u001b[0m\u001b[1;33m\u001b[0m\u001b[0m\n",
      "\u001b[1;32mC:\\ProgramData\\Anaconda3\\envs\\ml\\lib\\site-packages\\pymysql\\cursors.py\u001b[0m in \u001b[0;36m_query\u001b[1;34m(self, q)\u001b[0m\n\u001b[0;32m    308\u001b[0m         \u001b[0mself\u001b[0m\u001b[1;33m.\u001b[0m\u001b[0m_last_executed\u001b[0m \u001b[1;33m=\u001b[0m \u001b[0mq\u001b[0m\u001b[1;33m\u001b[0m\u001b[1;33m\u001b[0m\u001b[0m\n\u001b[0;32m    309\u001b[0m         \u001b[0mself\u001b[0m\u001b[1;33m.\u001b[0m\u001b[0m_clear_result\u001b[0m\u001b[1;33m(\u001b[0m\u001b[1;33m)\u001b[0m\u001b[1;33m\u001b[0m\u001b[1;33m\u001b[0m\u001b[0m\n\u001b[1;32m--> 310\u001b[1;33m         \u001b[0mconn\u001b[0m\u001b[1;33m.\u001b[0m\u001b[0mquery\u001b[0m\u001b[1;33m(\u001b[0m\u001b[0mq\u001b[0m\u001b[1;33m)\u001b[0m\u001b[1;33m\u001b[0m\u001b[1;33m\u001b[0m\u001b[0m\n\u001b[0m\u001b[0;32m    311\u001b[0m         \u001b[0mself\u001b[0m\u001b[1;33m.\u001b[0m\u001b[0m_do_get_result\u001b[0m\u001b[1;33m(\u001b[0m\u001b[1;33m)\u001b[0m\u001b[1;33m\u001b[0m\u001b[1;33m\u001b[0m\u001b[0m\n\u001b[0;32m    312\u001b[0m         \u001b[1;32mreturn\u001b[0m \u001b[0mself\u001b[0m\u001b[1;33m.\u001b[0m\u001b[0mrowcount\u001b[0m\u001b[1;33m\u001b[0m\u001b[1;33m\u001b[0m\u001b[0m\n",
      "\u001b[1;32mC:\\ProgramData\\Anaconda3\\envs\\ml\\lib\\site-packages\\pymysql\\connections.py\u001b[0m in \u001b[0;36mquery\u001b[1;34m(self, sql, unbuffered)\u001b[0m\n\u001b[0;32m    546\u001b[0m             \u001b[0msql\u001b[0m \u001b[1;33m=\u001b[0m \u001b[0msql\u001b[0m\u001b[1;33m.\u001b[0m\u001b[0mencode\u001b[0m\u001b[1;33m(\u001b[0m\u001b[0mself\u001b[0m\u001b[1;33m.\u001b[0m\u001b[0mencoding\u001b[0m\u001b[1;33m,\u001b[0m \u001b[1;34m\"surrogateescape\"\u001b[0m\u001b[1;33m)\u001b[0m\u001b[1;33m\u001b[0m\u001b[1;33m\u001b[0m\u001b[0m\n\u001b[0;32m    547\u001b[0m         \u001b[0mself\u001b[0m\u001b[1;33m.\u001b[0m\u001b[0m_execute_command\u001b[0m\u001b[1;33m(\u001b[0m\u001b[0mCOMMAND\u001b[0m\u001b[1;33m.\u001b[0m\u001b[0mCOM_QUERY\u001b[0m\u001b[1;33m,\u001b[0m \u001b[0msql\u001b[0m\u001b[1;33m)\u001b[0m\u001b[1;33m\u001b[0m\u001b[1;33m\u001b[0m\u001b[0m\n\u001b[1;32m--> 548\u001b[1;33m         \u001b[0mself\u001b[0m\u001b[1;33m.\u001b[0m\u001b[0m_affected_rows\u001b[0m \u001b[1;33m=\u001b[0m \u001b[0mself\u001b[0m\u001b[1;33m.\u001b[0m\u001b[0m_read_query_result\u001b[0m\u001b[1;33m(\u001b[0m\u001b[0munbuffered\u001b[0m\u001b[1;33m=\u001b[0m\u001b[0munbuffered\u001b[0m\u001b[1;33m)\u001b[0m\u001b[1;33m\u001b[0m\u001b[1;33m\u001b[0m\u001b[0m\n\u001b[0m\u001b[0;32m    549\u001b[0m         \u001b[1;32mreturn\u001b[0m \u001b[0mself\u001b[0m\u001b[1;33m.\u001b[0m\u001b[0m_affected_rows\u001b[0m\u001b[1;33m\u001b[0m\u001b[1;33m\u001b[0m\u001b[0m\n\u001b[0;32m    550\u001b[0m \u001b[1;33m\u001b[0m\u001b[0m\n",
      "\u001b[1;32mC:\\ProgramData\\Anaconda3\\envs\\ml\\lib\\site-packages\\pymysql\\connections.py\u001b[0m in \u001b[0;36m_read_query_result\u001b[1;34m(self, unbuffered)\u001b[0m\n\u001b[0;32m    773\u001b[0m         \u001b[1;32melse\u001b[0m\u001b[1;33m:\u001b[0m\u001b[1;33m\u001b[0m\u001b[1;33m\u001b[0m\u001b[0m\n\u001b[0;32m    774\u001b[0m             \u001b[0mresult\u001b[0m \u001b[1;33m=\u001b[0m \u001b[0mMySQLResult\u001b[0m\u001b[1;33m(\u001b[0m\u001b[0mself\u001b[0m\u001b[1;33m)\u001b[0m\u001b[1;33m\u001b[0m\u001b[1;33m\u001b[0m\u001b[0m\n\u001b[1;32m--> 775\u001b[1;33m             \u001b[0mresult\u001b[0m\u001b[1;33m.\u001b[0m\u001b[0mread\u001b[0m\u001b[1;33m(\u001b[0m\u001b[1;33m)\u001b[0m\u001b[1;33m\u001b[0m\u001b[1;33m\u001b[0m\u001b[0m\n\u001b[0m\u001b[0;32m    776\u001b[0m         \u001b[0mself\u001b[0m\u001b[1;33m.\u001b[0m\u001b[0m_result\u001b[0m \u001b[1;33m=\u001b[0m \u001b[0mresult\u001b[0m\u001b[1;33m\u001b[0m\u001b[1;33m\u001b[0m\u001b[0m\n\u001b[0;32m    777\u001b[0m         \u001b[1;32mif\u001b[0m \u001b[0mresult\u001b[0m\u001b[1;33m.\u001b[0m\u001b[0mserver_status\u001b[0m \u001b[1;32mis\u001b[0m \u001b[1;32mnot\u001b[0m \u001b[1;32mNone\u001b[0m\u001b[1;33m:\u001b[0m\u001b[1;33m\u001b[0m\u001b[1;33m\u001b[0m\u001b[0m\n",
      "\u001b[1;32mC:\\ProgramData\\Anaconda3\\envs\\ml\\lib\\site-packages\\pymysql\\connections.py\u001b[0m in \u001b[0;36mread\u001b[1;34m(self)\u001b[0m\n\u001b[0;32m   1154\u001b[0m     \u001b[1;32mdef\u001b[0m \u001b[0mread\u001b[0m\u001b[1;33m(\u001b[0m\u001b[0mself\u001b[0m\u001b[1;33m)\u001b[0m\u001b[1;33m:\u001b[0m\u001b[1;33m\u001b[0m\u001b[1;33m\u001b[0m\u001b[0m\n\u001b[0;32m   1155\u001b[0m         \u001b[1;32mtry\u001b[0m\u001b[1;33m:\u001b[0m\u001b[1;33m\u001b[0m\u001b[1;33m\u001b[0m\u001b[0m\n\u001b[1;32m-> 1156\u001b[1;33m             \u001b[0mfirst_packet\u001b[0m \u001b[1;33m=\u001b[0m \u001b[0mself\u001b[0m\u001b[1;33m.\u001b[0m\u001b[0mconnection\u001b[0m\u001b[1;33m.\u001b[0m\u001b[0m_read_packet\u001b[0m\u001b[1;33m(\u001b[0m\u001b[1;33m)\u001b[0m\u001b[1;33m\u001b[0m\u001b[1;33m\u001b[0m\u001b[0m\n\u001b[0m\u001b[0;32m   1157\u001b[0m \u001b[1;33m\u001b[0m\u001b[0m\n\u001b[0;32m   1158\u001b[0m             \u001b[1;32mif\u001b[0m \u001b[0mfirst_packet\u001b[0m\u001b[1;33m.\u001b[0m\u001b[0mis_ok_packet\u001b[0m\u001b[1;33m(\u001b[0m\u001b[1;33m)\u001b[0m\u001b[1;33m:\u001b[0m\u001b[1;33m\u001b[0m\u001b[1;33m\u001b[0m\u001b[0m\n",
      "\u001b[1;32mC:\\ProgramData\\Anaconda3\\envs\\ml\\lib\\site-packages\\pymysql\\connections.py\u001b[0m in \u001b[0;36m_read_packet\u001b[1;34m(self, packet_type)\u001b[0m\n\u001b[0;32m    723\u001b[0m             \u001b[1;32mif\u001b[0m \u001b[0mself\u001b[0m\u001b[1;33m.\u001b[0m\u001b[0m_result\u001b[0m \u001b[1;32mis\u001b[0m \u001b[1;32mnot\u001b[0m \u001b[1;32mNone\u001b[0m \u001b[1;32mand\u001b[0m \u001b[0mself\u001b[0m\u001b[1;33m.\u001b[0m\u001b[0m_result\u001b[0m\u001b[1;33m.\u001b[0m\u001b[0munbuffered_active\u001b[0m \u001b[1;32mis\u001b[0m \u001b[1;32mTrue\u001b[0m\u001b[1;33m:\u001b[0m\u001b[1;33m\u001b[0m\u001b[1;33m\u001b[0m\u001b[0m\n\u001b[0;32m    724\u001b[0m                 \u001b[0mself\u001b[0m\u001b[1;33m.\u001b[0m\u001b[0m_result\u001b[0m\u001b[1;33m.\u001b[0m\u001b[0munbuffered_active\u001b[0m \u001b[1;33m=\u001b[0m \u001b[1;32mFalse\u001b[0m\u001b[1;33m\u001b[0m\u001b[1;33m\u001b[0m\u001b[0m\n\u001b[1;32m--> 725\u001b[1;33m             \u001b[0mpacket\u001b[0m\u001b[1;33m.\u001b[0m\u001b[0mraise_for_error\u001b[0m\u001b[1;33m(\u001b[0m\u001b[1;33m)\u001b[0m\u001b[1;33m\u001b[0m\u001b[1;33m\u001b[0m\u001b[0m\n\u001b[0m\u001b[0;32m    726\u001b[0m         \u001b[1;32mreturn\u001b[0m \u001b[0mpacket\u001b[0m\u001b[1;33m\u001b[0m\u001b[1;33m\u001b[0m\u001b[0m\n\u001b[0;32m    727\u001b[0m \u001b[1;33m\u001b[0m\u001b[0m\n",
      "\u001b[1;32mC:\\ProgramData\\Anaconda3\\envs\\ml\\lib\\site-packages\\pymysql\\protocol.py\u001b[0m in \u001b[0;36mraise_for_error\u001b[1;34m(self)\u001b[0m\n\u001b[0;32m    219\u001b[0m         \u001b[1;32mif\u001b[0m \u001b[0mDEBUG\u001b[0m\u001b[1;33m:\u001b[0m\u001b[1;33m\u001b[0m\u001b[1;33m\u001b[0m\u001b[0m\n\u001b[0;32m    220\u001b[0m             \u001b[0mprint\u001b[0m\u001b[1;33m(\u001b[0m\u001b[1;34m\"errno =\"\u001b[0m\u001b[1;33m,\u001b[0m \u001b[0merrno\u001b[0m\u001b[1;33m)\u001b[0m\u001b[1;33m\u001b[0m\u001b[1;33m\u001b[0m\u001b[0m\n\u001b[1;32m--> 221\u001b[1;33m         \u001b[0merr\u001b[0m\u001b[1;33m.\u001b[0m\u001b[0mraise_mysql_exception\u001b[0m\u001b[1;33m(\u001b[0m\u001b[0mself\u001b[0m\u001b[1;33m.\u001b[0m\u001b[0m_data\u001b[0m\u001b[1;33m)\u001b[0m\u001b[1;33m\u001b[0m\u001b[1;33m\u001b[0m\u001b[0m\n\u001b[0m\u001b[0;32m    222\u001b[0m \u001b[1;33m\u001b[0m\u001b[0m\n\u001b[0;32m    223\u001b[0m     \u001b[1;32mdef\u001b[0m \u001b[0mdump\u001b[0m\u001b[1;33m(\u001b[0m\u001b[0mself\u001b[0m\u001b[1;33m)\u001b[0m\u001b[1;33m:\u001b[0m\u001b[1;33m\u001b[0m\u001b[1;33m\u001b[0m\u001b[0m\n",
      "\u001b[1;32mC:\\ProgramData\\Anaconda3\\envs\\ml\\lib\\site-packages\\pymysql\\err.py\u001b[0m in \u001b[0;36mraise_mysql_exception\u001b[1;34m(data)\u001b[0m\n\u001b[0;32m    141\u001b[0m     \u001b[1;32mif\u001b[0m \u001b[0merrorclass\u001b[0m \u001b[1;32mis\u001b[0m \u001b[1;32mNone\u001b[0m\u001b[1;33m:\u001b[0m\u001b[1;33m\u001b[0m\u001b[1;33m\u001b[0m\u001b[0m\n\u001b[0;32m    142\u001b[0m         \u001b[0merrorclass\u001b[0m \u001b[1;33m=\u001b[0m \u001b[0mInternalError\u001b[0m \u001b[1;32mif\u001b[0m \u001b[0merrno\u001b[0m \u001b[1;33m<\u001b[0m \u001b[1;36m1000\u001b[0m \u001b[1;32melse\u001b[0m \u001b[0mOperationalError\u001b[0m\u001b[1;33m\u001b[0m\u001b[1;33m\u001b[0m\u001b[0m\n\u001b[1;32m--> 143\u001b[1;33m     \u001b[1;32mraise\u001b[0m \u001b[0merrorclass\u001b[0m\u001b[1;33m(\u001b[0m\u001b[0merrno\u001b[0m\u001b[1;33m,\u001b[0m \u001b[0merrval\u001b[0m\u001b[1;33m)\u001b[0m\u001b[1;33m\u001b[0m\u001b[1;33m\u001b[0m\u001b[0m\n\u001b[0m",
      "\u001b[1;31mIntegrityError\u001b[0m: (1062, \"Duplicate entry '0' for key 'loan_category.PRIMARY'\")"
     ]
    }
   ],
   "source": [
    "db.rollback()\n",
    "\n",
    "category_id = 0\n",
    "for lifespan in [6, 12, 18, 24, 30, 36]:\n",
    "    for purpose in ['business', 'investment', 'other', 'emergency_funds', 'home']:\n",
    "        for is_secured in [0, 1]: \n",
    "            if is_secured == 0: \n",
    "                rate = round(random.uniform(16, 25), 2)\n",
    "            else: \n",
    "                rate = round(random.uniform(10, 12), 2)\n",
    "            \n",
    "            new_lifespan = lifespan * 30\n",
    "            \n",
    "            sql = 'INSERT INTO loan_category VALUES (%s, %s, %s, %s, %s)'\n",
    "            run(sql, category_id, new_lifespan, rate, purpose, is_secured)\n",
    "            category_id += 1\n",
    "            \n",
    "db.commit()"
   ]
  },
  {
   "cell_type": "markdown",
   "id": "scientific-conclusion",
   "metadata": {},
   "source": [
    "Random accounts"
   ]
  },
  {
   "cell_type": "code",
   "execution_count": 13,
   "id": "negative-crowd",
   "metadata": {},
   "outputs": [
    {
     "output_type": "error",
     "ename": "NameError",
     "evalue": "name 'nu' is not defined",
     "traceback": [
      "\u001b[1;31m---------------------------------------------------------------------------\u001b[0m",
      "\u001b[1;31mNameError\u001b[0m                                 Traceback (most recent call last)",
      "\u001b[1;32m<ipython-input-13-fb170281b62c>\u001b[0m in \u001b[0;36m<module>\u001b[1;34m\u001b[0m\n\u001b[0;32m      9\u001b[0m     \u001b[1;32mfor\u001b[0m \u001b[0mi\u001b[0m \u001b[1;32min\u001b[0m \u001b[0mrange\u001b[0m\u001b[1;33m(\u001b[0m\u001b[0mn_accounts\u001b[0m\u001b[1;33m)\u001b[0m\u001b[1;33m:\u001b[0m\u001b[1;33m\u001b[0m\u001b[1;33m\u001b[0m\u001b[0m\n\u001b[0;32m     10\u001b[0m         \u001b[0mcustomer_id\u001b[0m \u001b[1;33m=\u001b[0m \u001b[0mrow\u001b[0m\u001b[1;33m[\u001b[0m\u001b[1;34m'customer_id'\u001b[0m\u001b[1;33m]\u001b[0m\u001b[1;33m\u001b[0m\u001b[1;33m\u001b[0m\u001b[0m\n\u001b[1;32m---> 11\u001b[1;33m         \u001b[0mbranch_id\u001b[0m \u001b[1;33m=\u001b[0m \u001b[0mrandom\u001b[0m\u001b[1;33m.\u001b[0m\u001b[0mrandint\u001b[0m\u001b[1;33m(\u001b[0m\u001b[1;36m0\u001b[0m\u001b[1;33m,\u001b[0m \u001b[0mnu\u001b[0m\u001b[1;33m)\u001b[0m\u001b[1;33m\u001b[0m\u001b[1;33m\u001b[0m\u001b[0m\n\u001b[0m\u001b[0;32m     12\u001b[0m         \u001b[0mcreate_date\u001b[0m \u001b[1;33m=\u001b[0m \u001b[0mrandom_date\u001b[0m\u001b[1;33m(\u001b[0m\u001b[0mrandom\u001b[0m\u001b[1;33m.\u001b[0m\u001b[0mrandint\u001b[0m\u001b[1;33m(\u001b[0m\u001b[1;36m2017\u001b[0m\u001b[1;33m,\u001b[0m \u001b[1;36m2019\u001b[0m\u001b[1;33m)\u001b[0m\u001b[1;33m)\u001b[0m\u001b[1;33m\u001b[0m\u001b[1;33m\u001b[0m\u001b[0m\n\u001b[0;32m     13\u001b[0m         \u001b[0mbalance\u001b[0m \u001b[1;33m=\u001b[0m \u001b[0mrow\u001b[0m\u001b[1;33m[\u001b[0m\u001b[0mdata_src\u001b[0m\u001b[1;33m[\u001b[0m\u001b[0mi\u001b[0m\u001b[1;33m]\u001b[0m\u001b[1;33m]\u001b[0m\u001b[1;33m\u001b[0m\u001b[1;33m\u001b[0m\u001b[0m\n",
      "\u001b[1;31mNameError\u001b[0m: name 'nu' is not defined"
     ]
    }
   ],
   "source": [
    "import time\n",
    "\n",
    "db.rollback()\n",
    "\n",
    "for index, row in joined_csv.iterrows():\n",
    "    n_accounts = random.randint(1, 2)\n",
    "    \n",
    "    data_src = ['saving_amount', 'checking_amount',]\n",
    "    for i in range(n_accounts):\n",
    "        customer_id = row['customer_id']\n",
    "        branch_id = random.randint(0, num_)\n",
    "        create_date = random_date(random.randint(2017, 2019))\n",
    "        balance = row[data_src[i]]\n",
    "        acc_id = int(time.time_ns())\n",
    "        \n",
    "        sql = 'INSERT INTO account VALUES (%s, %s, %s, %s, %s)'\n",
    "        run(sql, acc_id, create_date, balance, customer_id, branch_id)\n",
    "\n",
    "db.commit()"
   ]
  },
  {
   "cell_type": "code",
   "execution_count": null,
   "id": "ordinary-onion",
   "metadata": {},
   "outputs": [],
   "source": [
    "run(\"SELECT * FROM account\")\n",
    "account_list = cursorInstance.fetchall()"
   ]
  },
  {
   "cell_type": "code",
   "execution_count": null,
   "id": "coral-resident",
   "metadata": {},
   "outputs": [],
   "source": [
    "run(\"SELECT * FROM loan_category\")\n",
    "category_list = cursorInstance.fetchall()\n",
    "\n",
    "id2time = {}\n",
    "id2rate = {}\n",
    "\n",
    "for item in category_list:\n",
    "    id2time[item['CategoryID']] = item['LifeSpan']\n",
    "    id2rate[item['CategoryID']] = item['Rate']\n",
    "    \n",
    "id2rate"
   ]
  },
  {
   "cell_type": "markdown",
   "id": "widespread-economics",
   "metadata": {},
   "source": [
    "Random loan tracsactions"
   ]
  },
  {
   "cell_type": "code",
   "execution_count": null,
   "id": "innocent-maine",
   "metadata": {},
   "outputs": [],
   "source": [
    "import math \n",
    "from uuid import uuid4\n",
    "\n",
    "db.rollback()\n",
    "\n",
    "import datetime\n",
    "from datetime import timedelta\n",
    "import calendar\n",
    "from tqdm import tqdm\n",
    "\n",
    "def add_months(sourcedate, months):\n",
    "    month = sourcedate.month - 1 + months\n",
    "    year = sourcedate.year + month // 12\n",
    "    month = month % 12 + 1\n",
    "    day = min(sourcedate.day, calendar.monthrange(year,month)[1])\n",
    "    return datetime.date(year, month, day)\n",
    "\n",
    "def random_datetime(date):\n",
    "    date_time = datetime.datetime(date.year, date.month, date.day)\n",
    "    end = date_time + timedelta(days=1)\n",
    "    return date_time + (end - date_time) * random.random()\n",
    "\n",
    "loan_id = 0\n",
    "\n",
    "for account in tqdm(account_list): \n",
    "    if random.randint(0, 1):\n",
    "        id = np.where(joined_csv.customer_id == account['CustomerID'])[0][0]\n",
    "        loan_id += 1\n",
    "        available_amount = joined_csv['total_credit_card_limit'][id] * random.uniform(5, 20)\n",
    "        amount = joined_csv['total_credit_card_limit'][id]\n",
    "        start_date = datetime.datetime(2012 + random.choice([0, 1, 2, 3, 4, 5, 6, 7, 8], p=[0.09, 0.1, 0.1, 0.11, 0.11, 0.12, 0.12, 0.13, 1 - 0.09 - 0.1 - 0.1 - 0.11 - 0.11 - 0.12 - 0.12 - 0.13]), \n",
    "                                       1 + random.choice([0, 1, 2, 3, 4, 5, 6, 7, 8, ])) \n",
    "        account_id = account['AccountID']\n",
    "        category_id = random.randint(0, 59)\n",
    "        sql = 'INSERT INTO loan VALUES (%s, %s, %s, %s, %s)'\n",
    "        run(sql, loan_id, available_amount, start_date, account_id, category_id)\n",
    "\n",
    "        lifespan = id2time[category_id] // 30 \n",
    "        rate = id2rate[category_id] \n",
    "\n",
    "        monthly_amount = math.ceil(amount * (100 + rate * (lifespan / 12)) / 100 / lifespan)\n",
    "        paid_times = lifespan\n",
    "\n",
    "#         db.commit()\n",
    "        if available_amount > 500:\n",
    "            for i in range(paid_times):\n",
    "                pay_date = add_months(start_date, i)\n",
    "                now = datetime.datetime.now() \n",
    "                now = add_months(now, 0)\n",
    "                if pay_date > now: \n",
    "                    break\n",
    "                \n",
    "                transaction_id = uuid4()\n",
    "#                 transaction_id = random_datetime(now).timestamp() * 1000000 + random.randint(1, 10) + random.randint(11, 100) + random.randint(101, 1000) + random.randint(1001, 10000) + random.randint(10001, 100000)\n",
    "                if i == 0: \n",
    "                    transaction_amount = -amount\n",
    "                else:\n",
    "                    transaction_amount = monthly_amount \n",
    "\n",
    "                sql = 'INSERT INTO loan_transaction VALUES (%s, %s, %s, %s)'\n",
    "                run(sql, transaction_id, pay_date, transaction_amount, loan_id)\n",
    "        #     break\n",
    "                             \n",
    "db.commit()"
   ]
  }
 ],
 "metadata": {
  "kernelspec": {
   "name": "python379jvsc74a57bd004a20cc0f25f2654a5fc5715c026c4c293afbc25926c593c301cab56769943bf",
   "display_name": "Python 3.7.9 64-bit ('ml': conda)"
  },
  "language_info": {
   "codemirror_mode": {
    "name": "ipython",
    "version": 3
   },
   "file_extension": ".py",
   "mimetype": "text/x-python",
   "name": "python",
   "nbconvert_exporter": "python",
   "pygments_lexer": "ipython3",
   "version": "3.7.9"
  }
 },
 "nbformat": 4,
 "nbformat_minor": 5
}