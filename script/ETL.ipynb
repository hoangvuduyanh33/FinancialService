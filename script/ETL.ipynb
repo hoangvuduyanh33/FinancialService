{
 "cells": [
  {
   "cell_type": "code",
   "execution_count": 1,
   "id": "finite-reputation",
   "metadata": {},
   "outputs": [],
   "source": [
    "import pymysql\n",
    "import pandas as pd\n",
    "\n",
    "db = pymysql.connect(host='localhost',port=int(3306),user='root',passwd='12345678', \n",
    "                    db='financialservice', cursorclass=pymysql.cursors.DictCursor)\n",
    "\n",
    "dwh = pymysql.connect(host='localhost',port=int(3306),user='root',passwd='12345678', \n",
    "                    db='datawarehouse', cursorclass=pymysql.cursors.DictCursor)\n",
    "\n",
    "cursorInstance = db.cursor()\n",
    "dwh_cursor = dwh.cursor()"
   ]
  },
  {
   "cell_type": "code",
   "execution_count": 2,
   "id": "dressed-stupid",
   "metadata": {},
   "outputs": [],
   "source": [
    "def run(command, *args):\n",
    "    cursorInstance.execute(command, args)\n",
    "    \n",
    "def dwh_run(command, *args):\n",
    "    dwh_cursor.execute(command, args)\n",
    "\n",
    "def get():\n",
    "    return cursorInstance.fetchall()\n",
    "\n",
    "def dwh_get():\n",
    "    return dwh_cursor.fetchall()"
   ]
  },
  {
   "cell_type": "markdown",
   "id": "formed-roman",
   "metadata": {},
   "source": [
    "**Extract**"
   ]
  },
  {
   "cell_type": "code",
   "execution_count": 3,
   "id": "primary-nurse",
   "metadata": {},
   "outputs": [],
   "source": [
    "run(\"SELECT * FROM branch\")\n",
    "branch = get()"
   ]
  },
  {
   "cell_type": "code",
   "execution_count": 4,
   "id": "chubby-weight",
   "metadata": {},
   "outputs": [],
   "source": [
    "run(\"SELECT * FROM customer\")\n",
    "customer = get()"
   ]
  },
  {
   "cell_type": "code",
   "execution_count": 5,
   "id": "portuguese-asthma",
   "metadata": {},
   "outputs": [],
   "source": [
    "run(\"SELECT * FROM loan_category\")\n",
    "loan_category = get()"
   ]
  },
  {
   "cell_type": "code",
   "execution_count": 6,
   "id": "accurate-departure",
   "metadata": {},
   "outputs": [],
   "source": [
    "run(\"SELECT * FROM loan\")\n",
    "loan = get()"
   ]
  },
  {
   "cell_type": "code",
   "execution_count": 7,
   "id": "digital-improvement",
   "metadata": {},
   "outputs": [],
   "source": [
    "run(\"SELECT * FROM loan_transaction\")\n",
    "transaction = get()"
   ]
  },
  {
   "cell_type": "markdown",
   "id": "answering-acceptance",
   "metadata": {},
   "source": [
    "**Transform**"
   ]
  },
  {
   "cell_type": "markdown",
   "id": "economic-shakespeare",
   "metadata": {},
   "source": [
    "**Load**"
   ]
  },
  {
   "cell_type": "code",
   "execution_count": 8,
   "id": "martial-membership",
   "metadata": {},
   "outputs": [
    {
     "output_type": "stream",
     "name": "stdout",
     "text": [
      "50\n0\n25508, Đường Kim Ngọc, Thành phố Vĩnh Yên, Tỉnh Vĩnh Phúc\n25508  Đường Kim Ngọc  Thành phố Vĩnh Yên  Tỉnh Vĩnh Phúc\n1\n049, Hai Bà Trưng, Quận Hoàn Kiếm, Thành phố Hà Nội\n049  Hai Bà Trưng  Quận Hoàn Kiếm  Thành phố Hà Nội\n10\n2709, Võ Văn Kiệt, Quận 1, Thành phố Hồ Chí Minh\n2709  Võ Văn Kiệt  Quận 1  Thành phố Hồ Chí Minh\n11\n809, Hàm Nghi, Quận 1, Thành phố Hồ Chí Minh\n809  Hàm Nghi  Quận 1  Thành phố Hồ Chí Minh\n12\n853, Lê Thánh Tôn, Quận 1, Thành phố Hồ Chí Minh\n853  Lê Thánh Tôn  Quận 1  Thành phố Hồ Chí Minh\n13\n9002, Bùi Thị Xuân, Quận 1, Thành phố Hồ Chí Minh\n9002  Bùi Thị Xuân  Quận 1  Thành phố Hồ Chí Minh\n14\n990, Phó Đức Chính, Quận 1, Thành phố Hồ Chí Minh\n990  Phó Đức Chính  Quận 1  Thành phố Hồ Chí Minh\n15\n5238, Nguyễn Công Trứ, Quận 1, Thành phố Hồ Chí Minh\n5238  Nguyễn Công Trứ  Quận 1  Thành phố Hồ Chí Minh\n16\n704, Võ Văn Tần, Quận 3, Thành phố Hồ Chí Minh\n704  Võ Văn Tần  Quận 3  Thành phố Hồ Chí Minh\n17\n258, Nam Kỳ Khởi Nghĩa, Quận 3, Thành phố Hồ Chí Minh\n258  Nam Kỳ Khởi Nghĩa  Quận 3  Thành phố Hồ Chí Minh\n18\n88505, Nguyễn Thị Diệu, Quận 3, Thành phố Hồ Chí Minh\n88505  Nguyễn Thị Diệu  Quận 3  Thành phố Hồ Chí Minh\n19\n4932, Đường Hoà Bình, Quận Ninh Kiều, Thành phố Cần Thơ\n4932  Đường Hoà Bình  Quận Ninh Kiều  Thành phố Cần Thơ\n2\n2845, Thợ Nhuộm, Quận Hoàn Kiếm, Thành phố Hà Nội\n2845  Thợ Nhuộm  Quận Hoàn Kiếm  Thành phố Hà Nội\n20\n006, Phan Đình Phùng, Quận Ninh Kiều, Thành phố Cần Thơ\n006  Phan Đình Phùng  Quận Ninh Kiều  Thành phố Cần Thơ\n21\n2691, Võ Văn Tần, Quận Ninh Kiều, Thành phố Cần Thơ\n2691  Võ Văn Tần  Quận Ninh Kiều  Thành phố Cần Thơ\n22\n596, Đường Hùng Vương,Thành phố Móng Cái, Tỉnh Quảng Ninh\n596  Đường Hùng Vương Thành phố Móng Cái  Tỉnh Quảng Ninh\n23\n5723, Trần Hưng Đạo, Thành phố Hạ Long, Tỉnh Quảng Ninh\n5723  Trần Hưng Đạo  Thành phố Hạ Long  Tỉnh Quảng Ninh\n24\n58218, Đường Hùng Vương, Thành phố Móng Cái, Tỉnh Quảng Ninh\n58218  Đường Hùng Vương  Thành phố Móng Cái  Tỉnh Quảng Ninh\n25\n3835, Đại lộ Bình Dương, Thành phố Thủ Dầu Một, Tỉnh Bình Dương\n3835  Đại lộ Bình Dương  Thành phố Thủ Dầu Một  Tỉnh Bình Dương\n26\n59724, Đường ĐT743, Thị xã Dĩ An, Tỉnh Bình Dương\n59724  Đường ĐT743  Thị xã Dĩ An  Tỉnh Bình Dương\n27\n2041, Trường Chinh, Thị xã Bà Rịa, Tỉnh Bà Rịa - Vũng Tàu\n2041  Trường Chinh  Thị xã Bà Rịa  Tỉnh Bà Rịa - Vũng Tàu\n28\n98724, Quốc lộ 51, Huyện Tân Thành, Tỉnh Bà Rịa - Vũng Tàu\n98724  Quốc lộ 51  Huyện Tân Thành  Tỉnh Bà Rịa - Vũng Tàu\n29\n327, Thống Nhất, Thành phố Vũng Tàu, Tỉnh Bà Rịa - Vũng Tàu\n327  Thống Nhất  Thành phố Vũng Tàu  Tỉnh Bà Rịa - Vũng Tàu\n3\n9742, Lê Thánh Tông, Quận Hoàn Kiếm, Thành phố Hà Nội\n9742  Lê Thánh Tông  Quận Hoàn Kiếm  Thành phố Hà Nội\n30\n7448, Trần Hưng Đạo, Thành phố Vũng Tàu, Tỉnh Bà Rịa - Vũng Tàu\n7448  Trần Hưng Đạo  Thành phố Vũng Tàu  Tỉnh Bà Rịa - Vũng Tàu\n31\n3272, Đường Nguyễn Trung Trực, Phú Quốc, Kiên Giang\n3272  Đường Nguyễn Trung Trực  Phú Quốc  Kiên Giang\n32\n191, Đường Trần Phú, Rạch Giá, Kiên Giang\n191  Đường Trần Phú  Rạch Giá  Kiên Giang\n33\n92324, Hùng Vương, Thành phố Quảng Ngãi, Tỉnh Quảng Ngãi\n92324  Hùng Vương  Thành phố Quảng Ngãi  Tỉnh Quảng Ngãi\n34\n7269, Trung An, Huyện Bình Sơn, Tỉnh Quảng Ngãi\n7269  Trung An  Huyện Bình Sơn  Tỉnh Quảng Ngãi\n35\n07810, Đường Lê Lợi, Thành phố Plei Ku, Tỉnh Gia Lai\n07810  Đường Lê Lợi  Thành phố Plei Ku  Tỉnh Gia Lai\n36\n6183, Nguyễn Tất Thành, Thành phố Plei Ku, Tỉnh Gia Lai\n6183  Nguyễn Tất Thành  Thành phố Plei Ku  Tỉnh Gia Lai\n37\n12345, Trần Phú, Thành phố Plei Ku, Tỉnh Gia Lai\n12345  Trần Phú  Thành phố Plei Ku  Tỉnh Gia Lai\n38\n52839, Lê Lợi, Vĩnh Long, Vĩnh Long\n52839  Lê Lợi  Vĩnh Long  Vĩnh Long\n39\n6489, KCN Phú Tài, Thành phố Quy Nhơn, Tỉnh Bình Định\n6489  KCN Phú Tài  Thành phố Quy Nhơn  Tỉnh Bình Định\n4\n273, Trần Quang Khải, Quận Hoàn Kiếm, Thành phố Hà Nội\n273  Trần Quang Khải  Quận Hoàn Kiếm  Thành phố Hà Nội\n40\n59624, Lê Duẩn, Thành phố Quy Nhơn, Tỉnh Bình Định\n59624  Lê Duẩn  Thành phố Quy Nhơn  Tỉnh Bình Định\n41\n921, Lê Hồng Phong, Thành phố Quy Nhơn, Tỉnh Bình Định\n921  Lê Hồng Phong  Thành phố Quy Nhơn  Tỉnh Bình Định\n42\n405, Lê Thị Pha, Thành phố Bảo Lộc, Tỉnh Lâm Đồng\n405  Lê Thị Pha  Thành phố Bảo Lộc  Tỉnh Lâm Đồng\n43\n64859, Đường 30/4, Thành phố Tây Ninh, Tỉnh Tây Ninh\n64859  Đường 30/4  Thành phố Tây Ninh  Tỉnh Tây Ninh\n44\n649, Đường Trần Phú, Thành phố Kon Tum, Tỉnh Kon Tum\n649  Đường Trần Phú  Thành phố Kon Tum  Tỉnh Kon Tum\n45\n59452, Nguyễn Công Trứ, Thành phố Vị Thanh, Hậu Giang\n59452  Nguyễn Công Trứ  Thành phố Vị Thanh  Hậu Giang\n46\n364, Đại Lộ Đồng Khởi, Thành phố Bến Tre, Bến Tre\n364  Đại Lộ Đồng Khởi  Thành phố Bến Tre  Bến Tre\n47\n20182, Qưới Sơn, Châu Thành, Bến Tre\n20182  Qưới Sơn  Châu Thành  Bến Tre\n48\n874, Duy Tân, Thành phố Tuy Hoà, Tỉnh Phú Yên\n874  Duy Tân  Thành phố Tuy Hoà  Tỉnh Phú Yên\n49\n912, Đường Lê Thánh Tôn, Thành phố Trà Vinh, Tỉnh Trà Vinh\n912  Đường Lê Thánh Tôn  Thành phố Trà Vinh  Tỉnh Trà Vinh\n5\n27767, Hàng Tre, Quận Hoàn Kiếm, Thành phố Hà Nội\n27767  Hàng Tre  Quận Hoàn Kiếm  Thành phố Hà Nội\n6\n47210, Huỳnh Thúc Kháng, Quận Đống Đa, Thành phố Hà Nội\n47210  Huỳnh Thúc Kháng  Quận Đống Đa  Thành phố Hà Nội\n7\n412, Trần Duy Hưng, Quận Cầu Giấy, Thành phố Hà Nội\n412  Trần Duy Hưng  Quận Cầu Giấy  Thành phố Hà Nội\n8\n544, Phạm Hùng, Nam Từ Liêm, Thành phố Hà Nội\n544  Phạm Hùng  Nam Từ Liêm  Thành phố Hà Nội\n9\n97407, Phan Đình Phùng, Quận Ba Đình, Thành phố Hà Nội\n97407  Phan Đình Phùng  Quận Ba Đình  Thành phố Hà Nội\n"
     ]
    }
   ],
   "source": [
    "dwh.rollback()\n",
    "\n",
    "print(len(branch))\n",
    "for b in branch: \n",
    "    address = b['Address']\n",
    "    print(b['BranchID'])\n",
    "    print(address)\n",
    "    number, street, city, province = address.split(',')\n",
    "    print(number, street, city, province)\n",
    "    sql = 'INSERT INTO branch_dimension VALUES (%s, %s, %s, %s)'\n",
    "    dwh_run(sql, b['BranchID'], street, city, province)\n",
    "\n",
    "dwh.commit()"
   ]
  },
  {
   "cell_type": "code",
   "execution_count": 9,
   "id": "pacific-final",
   "metadata": {},
   "outputs": [],
   "source": [
    "dwh.rollback()\n",
    "\n",
    "for lc in loan_category:\n",
    "    sql = 'INSERT INTO loan_category_dimension VALUES (%s, %s, %s, %s, %s)'\n",
    "    dwh_run(sql, lc['CategoryID'], lc['LifeSpan'], lc['Rate'], lc['Purpose'], lc['IsSecured'])\n",
    "    \n",
    "dwh.commit()"
   ]
  },
  {
   "cell_type": "code",
   "execution_count": 10,
   "id": "loving-relationship",
   "metadata": {},
   "outputs": [],
   "source": [
    "dwh.rollback()\n",
    "\n",
    "from datetime import date, timedelta\n",
    "\n",
    "sdate = date(2010, 1, 1)   # start date\n",
    "edate = date(2030, 12, 31)   # end date\n",
    "\n",
    "delta = edate - sdate       # as timedelta\n",
    "\n",
    "for i in range(delta.days + 1):\n",
    "    day = sdate + timedelta(days=i)\n",
    "    sql = 'INSERT INTO date_dimension VALUES (%s, %s, %s, %s, %s)'\n",
    "    dwh_run(sql, i, day.day, day.month, day.year, (day.month - 1) // 3 + 1)\n",
    "    \n",
    "dwh.commit()"
   ]
  },
  {
   "cell_type": "code",
   "execution_count": 11,
   "id": "measured-sperm",
   "metadata": {},
   "outputs": [],
   "source": [
    "dwh.rollback()\n",
    "\n",
    "from datetime import date, timedelta\n",
    "\n",
    "sdate = date(2010, 1, 1)   # start date\n",
    "edate = date(2030, 12, 31)   # end date\n",
    "\n",
    "delta = edate - sdate       # as timedelta\n",
    "\n",
    "for i in range(delta.days + 1):\n",
    "    day = sdate + timedelta(days=i)\n",
    "    sql = 'INSERT INTO loan_started_date_dimension VALUES (%s, %s, %s, %s, %s)'\n",
    "    dwh_run(sql, i, day.day, day.month, day.year, (day.month - 1) // 3 + 1)\n",
    "    \n",
    "dwh.commit()"
   ]
  },
  {
   "cell_type": "code",
   "execution_count": 12,
   "id": "guided-emphasis",
   "metadata": {
    "tags": []
   },
   "outputs": [],
   "source": [
    "dwh.rollback()\n",
    "\n",
    "for b in customer: \n",
    "    sql = 'INSERT INTO customer_dimension VALUES (%s, %s, %s)'\n",
    "    dwh_run(sql, b['ID'], b['Name'], b['DOB'])\n",
    "\n",
    "dwh.commit()"
   ]
  },
  {
   "cell_type": "code",
   "execution_count": 13,
   "id": "accredited-filter",
   "metadata": {},
   "outputs": [
    {
     "output_type": "stream",
     "name": "stderr",
     "text": [
      "100%|██████████| 4023/4023 [00:10<00:00, 400.58it/s]\n"
     ]
    }
   ],
   "source": [
    "from tqdm import tqdm\n",
    "\n",
    "dwh.rollback()\n",
    "\n",
    "for l in tqdm(loan): \n",
    "    key = l['LoanID']\n",
    "    available_amount = l['AvailableAmount']\n",
    "    date = l['StartDate']\n",
    "    \n",
    "    dwh_run(f\"SELECT LoanStartedDateKey FROM loan_started_date_dimension WHERE LoanStartedDate = {date.day} AND LoanStartedMonth = {date.month} AND LoanStartedYear = {date.year}\")\n",
    "    date_id = dwh_get()[0]['LoanStartedDateKey']\n",
    "    sql = 'INSERT INTO loan_dimension VALUES (%s, %s, %s)'\n",
    "    dwh_run(sql, key, available_amount, date_id)\n",
    "\n",
    "dwh.commit()"
   ]
  },
  {
   "cell_type": "code",
   "execution_count": 14,
   "id": "assured-sucking",
   "metadata": {},
   "outputs": [
    {
     "output_type": "stream",
     "name": "stdout",
     "text": [
      "1152\n"
     ]
    }
   ],
   "source": [
    "import datetime \n",
    "from datetime import timedelta\n",
    "\n",
    "id = 0\n",
    "\n",
    "dwh.rollback()\n",
    "\n",
    "age_bands = [18, 25, 30, 35, 40, 45, 50, 55, 60]\n",
    "income_bands = [0, 1000, 3000, 5000, 7000, 9000, 11000, 13000, 15000, 17000, 19000, 21000, 23000, 25000, 27000, 30000]\n",
    "\n",
    "def get_age_band(a):\n",
    "    for i in range(0, len(age_bands) - 1):\n",
    "        if (a >= age_bands[i]) and (a < age_bands[i + 1]):\n",
    "            return age_bands[i]\n",
    "    \n",
    "    return 60\n",
    "\n",
    "def get_income_band(a):\n",
    "    for i in range(0, len(income_bands) - 1):\n",
    "        if (a >= income_bands[i]) and (a < income_bands[i + 1]):\n",
    "            return income_bands[i]\n",
    "    \n",
    "    return 30000\n",
    "\n",
    "for age_band in age_bands:\n",
    "    for income_band in income_bands:\n",
    "        for marital in range(4):\n",
    "            for is_employed in range(2):\n",
    "                id += 1\n",
    "                sql = 'INSERT INTO customer_demographic_dimension VALUES (%s, %s, %s, %s, %s)'\n",
    "                dwh_run(sql, id, age_band, income_band, marital, is_employed)\n",
    "\n",
    "print(id)\n",
    "    \n",
    "dwh.commit()"
   ]
  },
  {
   "cell_type": "code",
   "execution_count": 15,
   "id": "editorial-faculty",
   "metadata": {},
   "outputs": [
    {
     "output_type": "stream",
     "name": "stderr",
     "text": [
      "100%|██████████| 60694/60694 [16:00<00:00, 63.18it/s]\n"
     ]
    }
   ],
   "source": [
    "from tqdm import tqdm\n",
    "import datetime\n",
    "\n",
    "for t in tqdm(transaction):\n",
    "    date = t['Date']\n",
    "    dwh_run(f\"SELECT DateKey FROM date_dimension WHERE Date = {date.day} AND Month = {date.month} AND Year = {date.year}\")\n",
    "    date_id = dwh_get()[0]['DateKey']\n",
    "    \n",
    "    run(f\"SELECT AccountID, CategoryID FROM loan WHERE LoanID = {t['LoanID']}\")\n",
    "    result = get()[0]\n",
    "    category_id = result['CategoryID']\n",
    "    account_id = result['AccountID']\n",
    "    \n",
    "    run(f\"SELECT CustomerID, BranchID FROM account WHERE AccountID = {account_id}\")\n",
    "    result = get()[0]\n",
    "    customer_id = result['CustomerID']\n",
    "    branch_id = result['BranchID']\n",
    "    \n",
    "    run(f\"SELECT DOB, MaritalStatus, Income, Job FROM customer WHERE ID = {customer_id}\")\n",
    "    result = get()[0]\n",
    "    dob = result['DOB']\n",
    "    marital = result['MaritalStatus']\n",
    "    income = result['Income']\n",
    "    is_employed = result['Job']\n",
    "    \n",
    "    now = datetime.datetime.now()\n",
    "    time_difference = now - dob\n",
    "    age = time_difference.days // 365\n",
    "    age_band = get_age_band(age)\n",
    "    income_band = get_income_band(income_band)\n",
    "        \n",
    "    dwh_run(f\"SELECT CustomerDemographicKey FROM customer_demographic_dimension WHERE AgeBand = {age_band} AND IncomeBand = {income_band} AND MaritalStatus = {marital} AND IsEmployed = {is_employed}\")\n",
    "    key = dwh_get()[0]['CustomerDemographicKey']\n",
    "    loan_id = t['LoanID']\n",
    "    \n",
    "    sql = f'INSERT INTO loan_transaction_facts VALUES (%s, %s, %s, %s, %s, %s, %s)'\n",
    "    dwh_run(sql, date_id, branch_id, category_id, customer_id, key, loan_id, t['Amount'])\n",
    "\n",
    "dwh.commit()"
   ]
  },
  {
   "cell_type": "code",
   "execution_count": null,
   "id": "seventh-force",
   "metadata": {},
   "outputs": [],
   "source": []
  }
 ],
 "metadata": {
  "kernelspec": {
   "name": "python379jvsc74a57bd004a20cc0f25f2654a5fc5715c026c4c293afbc25926c593c301cab56769943bf",
   "display_name": "Python 3.7.9 64-bit ('ml': conda)"
  },
  "language_info": {
   "codemirror_mode": {
    "name": "ipython",
    "version": 3
   },
   "file_extension": ".py",
   "mimetype": "text/x-python",
   "name": "python",
   "nbconvert_exporter": "python",
   "pygments_lexer": "ipython3",
   "version": "3.7.9"
  }
 },
 "nbformat": 4,
 "nbformat_minor": 5
}